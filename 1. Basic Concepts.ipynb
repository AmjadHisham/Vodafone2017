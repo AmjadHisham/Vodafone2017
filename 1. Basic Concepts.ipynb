{
 "cells": [
  {
   "cell_type": "code",
   "execution_count": 1,
   "metadata": {
    "collapsed": false,
    "deletable": true,
    "editable": true
   },
   "outputs": [],
   "source": [
    "import warnings\n",
    "warnings.filterwarnings('ignore')\n",
    "\n",
    "import numpy as np\n",
    "import seaborn as sns\n",
    "import matplotlib.pyplot as plt\n",
    "from sklearn.datasets.samples_generator import make_regression \n",
    "from scipy import stats \n",
    "%matplotlib inline"
   ]
  },
  {
   "cell_type": "markdown",
   "metadata": {
    "deletable": true,
    "editable": true
   },
   "source": [
    "# Basic Concepts\n",
    "\n",
    "## What is \"learning from data\"?\n",
    "\n",
    "> In general **Learning from Data** is a scientific discipline that is concerned with the design and development of algorithms that allow computers to infer (from data) a  model that allows *compact representation* (unsupervised learning) and/or *good generalization* (supervised learning).\n",
    "\n",
    "This is an important technology because it enables computational systems to adaptively improve their performance with experience accumulated from the observed data. \n",
    "\n",
    "Most of these algorithms are based on the *iterative solution* of a mathematical problem that involves data and model. If there was an analytical solution to the problem, this should be the adopted one, but this is not the case for most of the cases.\n",
    "\n",
    "So, the most common strategy for **learning from data** is based on solving a system of equations as a way to find a series of parameters of the model that minimizes a mathematical problem. This is called **optimization**.\n",
    "\n",
    "The most important technique for solving optimization problems is **gradient descend**."
   ]
  },
  {
   "cell_type": "markdown",
   "metadata": {
    "deletable": true,
    "editable": true
   },
   "source": [
    "## Preliminary: Nelder-Mead method for function minimization.\n",
    "\n",
    "The most simple thing we can try to minimize a function $f(x)$ would be to sample two points relatively near each other, and just repeatedly take a step down away from the largest value. This simple algorithm has a severe limitation: it can't get closer to the true minima than the step size.  \n",
    "\n",
    "The Nelder-Mead method dynamically adjusts the step size based off the loss of the new point. If the new point is better than any previously seen value, it **expands** the step size to accelerate towards the bottom. Likewise if the new point is worse it **contracts** the step size to converge around the minima. The usual settings are to half the step size when contracting and double the step size when expanding. \n",
    "\n",
    "This method can be easily extended into higher dimensional examples, all that's required is taking one more point than there are dimensions. Then, the simplest approach is to replace the worst point with a point reflected through the centroid of the remaining n points. If this point is better than the best current point, then we can try stretching exponentially out along this line. On the other hand, if this new point isn't much better than the previous value, then we are stepping across a valley, so we shrink the step towards a better point.\n",
    "\n",
    "> See \"An Interactive Tutorial on Numerical Optimization\": http://www.benfrederickson.com/numerical-optimization/"
   ]
  },
  {
   "cell_type": "markdown",
   "metadata": {
    "deletable": true,
    "editable": true
   },
   "source": [
    "## Gradient descend (for *hackers*) for function minimization: 1-D\n",
    "\n",
    "Let's suppose that we have a function $f: \\mathbb{R} \\rightarrow \\mathbb{R}$. For example: \n",
    "\n",
    "$$f(x) = x^2$$\n",
    "\n",
    "Our objective is to find the argument  $x$ that minimizes this function (for maximization, consider $-f(x)$). To this end, the critical concept is the **derivative**.\n",
    "\n",
    "The derivative of $f$ of a variable $x$, $f'(x)$ or $\\frac{\\partial f}{\\partial x}$,  is a measure of the rate at which the value of the function changes with respect to the change of the variable. \n",
    "\n",
    "It is defined as the following limit:\n",
    "\n",
    "\n",
    "$$ f'(x) = \\lim_{h \\rightarrow 0} \\frac{f(x + h) - f(x)}{h} $$\n",
    "\n",
    "The derivative specifies how to scale a small change in the input in order to obtain the corresponding change in the output: \n",
    "\n",
    "$$ f(x + h) \\approx f(x) + h f'(x)$$"
   ]
  },
  {
   "cell_type": "code",
   "execution_count": 2,
   "metadata": {
    "collapsed": false,
    "deletable": true,
    "editable": true
   },
   "outputs": [
    {
     "name": "stdout",
     "output_type": "stream",
     "text": [
      "4.0000\n"
     ]
    }
   ],
   "source": [
    "# numerical derivative at a point x\n",
    "\n",
    "def f(x):\n",
    "    return x**2\n",
    "\n",
    "def fin_dif(x, \n",
    "            f, \n",
    "            h = 0.00001):\n",
    "    '''\n",
    "    This method returns the derivative of f at x\n",
    "    by using the finite difference method\n",
    "    '''\n",
    "    return (f(x+h) - f(x))/h\n",
    "\n",
    "x = 2.0\n",
    "print \"{:2.4f}\".format(fin_dif(x,f))"
   ]
  },
  {
   "cell_type": "markdown",
   "metadata": {
    "deletable": true,
    "editable": true
   },
   "source": [
    "The limit as $h$ approaches zero, if it exists, should represent the **slope of the tangent line** to $(x, f(x))$. \n",
    "\n",
    "For values that are not zero it is only an approximation."
   ]
  },
  {
   "cell_type": "code",
   "execution_count": 3,
   "metadata": {
    "collapsed": false,
    "deletable": true,
    "editable": true
   },
   "outputs": [
    {
     "name": "stdout",
     "output_type": "stream",
     "text": [
      "25.000000 25.000000\n",
      "27.562500 27.500002\n",
      "30.250000 30.000005\n",
      "33.062500 32.500007\n",
      "36.000000 35.000010\n"
     ]
    }
   ],
   "source": [
    "for h in np.linspace(0.0, 1.0 , 5):\n",
    "    print \"{:3.6f}\".format(f(5+h)), \"{:3.6f}\".format(f(5)+h*fin_dif(5,f))"
   ]
  },
  {
   "cell_type": "code",
   "execution_count": 4,
   "metadata": {
    "collapsed": false,
    "deletable": true,
    "editable": true
   },
   "outputs": [
    {
     "data": {
      "text/plain": [
       "<function matplotlib.pyplot.show>"
      ]
     },
     "execution_count": 4,
     "metadata": {},
     "output_type": "execute_result"
    },
    {
     "data": {
      "image/png": "[encoded data removed]",
      "text/plain": [
       "<matplotlib.figure.Figure at 0x7fe5785da8d0>"
      ]
     },
     "metadata": {},
     "output_type": "display_data"
    }
   ],
   "source": [
    "x = np.linspace(-1.5,-0.5, 100)\n",
    "f = [i**2 for i in x]\n",
    "\n",
    "fig, ax = plt.subplots(1, 1)\n",
    "fig.set_facecolor('#EAEAF2')\n",
    "plt.plot(x,f, 'r-')\n",
    "plt.plot([-1.5, -0.5], [2, 0.0], 'k-', lw=2)\n",
    "plt.plot([-1.4, -1.0], [1.96, 1.0], 'b-', lw=2)\n",
    "plt.plot([-1],[1],'o')\n",
    "plt.plot([-1.4],[1.96],'o')\n",
    "plt.text(-1.0, 1.2, r'$x,f(x)$')\n",
    "plt.text(-1.4, 2.2, r'$(x-h),f(x-h)$')\n",
    "plt.gcf().set_size_inches((10,3))\n",
    "plt.grid(True)\n",
    "plt.show"
   ]
  },
  {
   "cell_type": "markdown",
   "metadata": {
    "deletable": true,
    "editable": true
   },
   "source": [
    "> It can be shown that the “centered difference formula\" is better when computing numerical derivatives:\n",
    "\n",
    "> $$ \\lim_{h \\rightarrow 0} \\frac{f(x + h) - f(x - h)}{2h} $$\n",
    "\n",
    "> The error in the \"finite difference\" approximation can be derived from Taylor's theorem and, assuming that $f$ is differentiable, is $O(h)$. In the case of “centered difference\" the error is $O(h^2)$."
   ]
  },
  {
   "cell_type": "markdown",
   "metadata": {
    "deletable": true,
    "editable": true
   },
   "source": [
    "The derivative tells how to chage $x$ in order to make a small improvement in $f$. \n",
    "\n",
    "Then, we can follow these steps to decrease the value of the function:\n",
    "\n",
    "+ Start from a random $x$ value.\n",
    "+ Compute the derivative $f'(x) = \\lim_{h \\rightarrow 0} \\frac{f(x + h) - f(x - h)}{2h}$.\n",
    "+ Walk a small step (possibly weighted by the derivative module) in the **opposite** direction of the derivative, because we know that $f(x - h \\mbox{ sign}(f'(x))$ is less than $f(x)$ for  small enough $h$. \n",
    "\n",
    "The search for the minima ends when the derivative is zero because we have no more information about which direction to move. $x$ is a critical o stationary point if $f'(x)=0$. \n",
    "\n",
    " + A **minimum (maximum)** is a critical point where $f(x)$ is lower (higher) than at all neighboring points. \n",
    " + There is a third class of critical points: **saddle points**.\n",
    "\n",
    "If $f$ is a **convex function**, this should be the minimum (maximum) of our functions. In other cases it could be a local minimum (maximum) or a saddle point."
   ]
  },
  {
   "cell_type": "code",
   "execution_count": 5,
   "metadata": {
    "collapsed": false,
    "deletable": true,
    "editable": true
   },
   "outputs": [
    {
     "data": {
      "text/plain": [
       "<function matplotlib.pyplot.show>"
      ]
     },
     "execution_count": 5,
     "metadata": {},
     "output_type": "execute_result"
    },
    {
     "data": {
      "image/png": "[encoded data removed]",
      "text/plain": [
       "<matplotlib.figure.Figure at 0x7fc3c9851150>"
      ]
     },
     "metadata": {},
     "output_type": "display_data"
    }
   ],
   "source": [
    "x = np.linspace(-15,15,100)\n",
    "y = x**2\n",
    "\n",
    "fig, ax = plt.subplots(1, 1)\n",
    "fig.set_facecolor('#EAEAF2')\n",
    "plt.plot(x,y, 'r-')\n",
    "plt.plot([0],[0],'o')\n",
    "plt.ylim([-10,250])\n",
    "plt.gcf().set_size_inches((10,3))\n",
    "plt.grid(True)\n",
    "ax.text(0,\n",
    "        20,\n",
    "        'Minimum',\n",
    "        ha='center',\n",
    "        color=sns.xkcd_rgb['pale red'],\n",
    "       )\n",
    "plt.show"
   ]
  },
  {
   "cell_type": "code",
   "execution_count": 6,
   "metadata": {
    "collapsed": false,
    "deletable": true,
    "editable": true
   },
   "outputs": [
    {
     "data": {
      "text/plain": [
       "<function matplotlib.pyplot.show>"
      ]
     },
     "execution_count": 6,
     "metadata": {},
     "output_type": "execute_result"
    },
    {
     "data": {
      "image/png": "[encoded data removed]",
      "text/plain": [
       "<matplotlib.figure.Figure at 0x7fc3c988ba50>"
      ]
     },
     "metadata": {},
     "output_type": "display_data"
    }
   ],
   "source": [
    "x = np.linspace(-15,15,100)\n",
    "y = -x**2\n",
    "\n",
    "fig, ax = plt.subplots(1, 1)\n",
    "fig.set_facecolor('#EAEAF2')\n",
    "plt.plot(x,y, 'r-')\n",
    "plt.plot([0],[0],'o')\n",
    "plt.ylim([-250,10])\n",
    "plt.gcf().set_size_inches((10,3))\n",
    "plt.grid(True)\n",
    "ax.text(0,\n",
    "        -30,\n",
    "        'Maximum',\n",
    "        ha='center',\n",
    "        color=sns.xkcd_rgb['pale red'],\n",
    "       )\n",
    "plt.show"
   ]
  },
  {
   "cell_type": "code",
   "execution_count": 7,
   "metadata": {
    "collapsed": false,
    "deletable": true,
    "editable": true
   },
   "outputs": [
    {
     "data": {
      "text/plain": [
       "<function matplotlib.pyplot.show>"
      ]
     },
     "execution_count": 7,
     "metadata": {},
     "output_type": "execute_result"
    },
    {
     "data": {
      "image/png": "[encoded data removed]",
      "text/plain": [
       "<matplotlib.figure.Figure at 0x7fc3c995b4d0>"
      ]
     },
     "metadata": {},
     "output_type": "display_data"
    }
   ],
   "source": [
    "x = np.linspace(-15,15,100)\n",
    "y = x**3\n",
    "\n",
    "fig, ax = plt.subplots(1, 1)\n",
    "fig.set_facecolor('#EAEAF2')\n",
    "plt.plot(x,y, 'r-')\n",
    "plt.plot([0],[0],'o')\n",
    "plt.ylim([-3000,3000])\n",
    "plt.gcf().set_size_inches((10,3))\n",
    "plt.grid(True)\n",
    "ax.text(0,\n",
    "        400,\n",
    "        'Saddle Point',\n",
    "        ha='center',\n",
    "        color=sns.xkcd_rgb['pale red'],\n",
    "       )\n",
    "plt.show"
   ]
  },
  {
   "cell_type": "markdown",
   "metadata": {
    "deletable": true,
    "editable": true
   },
   "source": [
    "There are two problems with numerical derivatives:\n",
    "+ It is approximate.\n",
    "+ It is very slow to evaluate (two function evaluations: $f(x + h) , f(x - h)$ ).\n",
    "\n",
    "Our knowledge from Calculus could help!"
   ]
  },
  {
   "cell_type": "markdown",
   "metadata": {
    "deletable": true,
    "editable": true
   },
   "source": [
    "We know that we can get an **analytical expression** of the derivative for **some** functions. \n",
    "\n",
    "For example, let's suppose we have a simple quadratic function, $f(x)=x^2−6x+5$, and we want to find the minimum of this function. \n",
    "\n",
    "#### First approach\n",
    "\n",
    "We can solve this analytically using Calculus, by finding the derivate $f'(x)  =  2x-6$ and setting it to zero:\n",
    "\n",
    "\\begin{equation}\n",
    "\\begin{split}\n",
    "2x-6  & = & 0 \\\\\n",
    "2x  & = & 6 \\\\\n",
    "x & = & 3 \\\\\n",
    "\\end{split}\n",
    "\\end{equation} "
   ]
  },
  {
   "cell_type": "code",
   "execution_count": 8,
   "metadata": {
    "collapsed": false,
    "deletable": true,
    "editable": true
   },
   "outputs": [
    {
     "data": {
      "text/plain": [
       "<function matplotlib.pyplot.show>"
      ]
     },
     "execution_count": 8,
     "metadata": {},
     "output_type": "execute_result"
    },
    {
     "data": {
      "image/png": "[encoded data removed]",
      "text/plain": [
       "<matplotlib.figure.Figure at 0x7fc3c978f9d0>"
      ]
     },
     "metadata": {},
     "output_type": "display_data"
    }
   ],
   "source": [
    "x = np.linspace(-10,20,100)\n",
    "y = x**2 - 6*x + 5\n",
    "\n",
    "fig, ax = plt.subplots(1, 1)\n",
    "fig.set_facecolor('#EAEAF2')\n",
    "plt.plot(x,y, 'r-')\n",
    "plt.plot([3],[3**2 - 6*3 + 5],'o')\n",
    "plt.ylim([-10,250])\n",
    "plt.gcf().set_size_inches((10,3))\n",
    "plt.grid(True)\n",
    "ax.text(3,\n",
    "        10,\n",
    "        'Min: x = 3',\n",
    "        ha='center',\n",
    "        color=sns.xkcd_rgb['pale red'],\n",
    "       )\n",
    "plt.show"
   ]
  },
  {
   "cell_type": "markdown",
   "metadata": {
    "deletable": true,
    "editable": true
   },
   "source": [
    "#### Second approach\n",
    "\n",
    "To find the local minimum using **gradient descend**: you start at a random point, and move into the direction of steepest **descent** relative to the derivative:\n",
    "\n",
    "+ Start from a random $x$ value.\n",
    "+ Compute the derivative $f'(x)$ analitically.\n",
    "+ Walk a small step in the **opposite** direction of the derivative. \n",
    "\n",
    "In this example, let's suppose we start at $x=15$. The derivative at this point is $2×15−6=24$. \n",
    "\n",
    "Because we're using gradient descent, we need to subtract the gradient from our $x$-coordinate: $f(x - f'(x))$. However, notice that $15−24$ gives us $−9$, clearly overshooting over target of $3$. "
   ]
  },
  {
   "cell_type": "code",
   "execution_count": 9,
   "metadata": {
    "collapsed": false,
    "deletable": true,
    "editable": true
   },
   "outputs": [
    {
     "data": {
      "text/plain": [
       "<function matplotlib.pyplot.show>"
      ]
     },
     "execution_count": 9,
     "metadata": {},
     "output_type": "execute_result"
    },
    {
     "data": {
      "image/png": "[encoded data removed]",
      "text/plain": [
       "<matplotlib.figure.Figure at 0x7fc3c9738850>"
      ]
     },
     "metadata": {},
     "output_type": "display_data"
    }
   ],
   "source": [
    "x = np.linspace(-10,20,100)\n",
    "y = x**2 - 6*x + 5\n",
    "start = 15\n",
    "\n",
    "fig, ax = plt.subplots(1, 1)\n",
    "fig.set_facecolor('#EAEAF2')\n",
    "plt.plot(x,y, 'r-')\n",
    "plt.plot([start],[start**2 - 6*start + 5],'o')\n",
    "ax.text(start,\n",
    "        start**2 - 6*start + 35,\n",
    "        'Start',\n",
    "        ha='center',\n",
    "        color=sns.xkcd_rgb['blue'],\n",
    "       )\n",
    "\n",
    "d = 2 * start - 6\n",
    "end = start - d\n",
    "\n",
    "plt.plot([end],[end**2 - 6*end + 5],'o')\n",
    "plt.ylim([-10,250])\n",
    "plt.gcf().set_size_inches((10,3))\n",
    "plt.grid(True)\n",
    "ax.text(end,\n",
    "        start**2 - 6*start + 35,\n",
    "        'End',\n",
    "        ha='center',\n",
    "        color=sns.xkcd_rgb['green'],\n",
    "       )\n",
    "plt.show"
   ]
  },
  {
   "cell_type": "markdown",
   "metadata": {
    "deletable": true,
    "editable": true
   },
   "source": [
    "To fix this, we multiply the gradient by a step size. This step size (often called **alpha**) has to be chosen carefully, as a value too small will result in a long computation time, while a value too large will not give you the right result (by overshooting) or even fail to converge. \n",
    "\n",
    "In this example, we'll set the step size to 0.01, which means we'll subtract $24×0.01$ from $15$, which is $14.76$. \n",
    "\n",
    "This is now our new temporary local minimum: We continue this method until we either don't see a change after we subtracted the derivative step size (or until we've completed a pre-set number of iterations)."
   ]
  },
  {
   "cell_type": "code",
   "execution_count": 5,
   "metadata": {
    "collapsed": false,
    "deletable": true,
    "editable": true
   },
   "outputs": [
    {
     "name": "stdout",
     "output_type": "stream",
     "text": [
      "Local minimum occurs at 3.000000.\n"
     ]
    }
   ],
   "source": [
    "old_min = 0\n",
    "temp_min = 15\n",
    "step_size = 0.01\n",
    "precision = 0.0001\n",
    "\n",
    "def f(x):\n",
    "    return x**2 - 6*x + 5\n",
    "    \n",
    "def f_derivative(x):\n",
    "    import math\n",
    "    return 2*x -6\n",
    "\n",
    "mins = []\n",
    "cost = []\n",
    "\n",
    "while abs(temp_min - old_min) > precision:\n",
    "    old_min = temp_min \n",
    "    gradient = f_derivative(old_min) \n",
    "    move = gradient * step_size\n",
    "    temp_min = old_min - move\n",
    "    cost.append((3-temp_min)**2)\n",
    "    mins.append(temp_min)\n",
    "\n",
    "# rounding the result to 2 digits because of the step size\n",
    "print \"Local minimum occurs at {:3.6f}.\".format(round(temp_min,2))"
   ]
  },
  {
   "cell_type": "markdown",
   "metadata": {
    "deletable": true,
    "editable": true
   },
   "source": [
    "An important feature of gradient descent is that **there should be a visible improvement over time**: In this example, we simply plotted the squared distance from the local minima calculated by gradient descent and the true local minimum,  ``cost``, against the iteration during which it was calculated. As we can see, the distance gets smaller over time, but barely changes in later iterations. "
   ]
  },
  {
   "cell_type": "code",
   "execution_count": 11,
   "metadata": {
    "collapsed": false,
    "deletable": true,
    "editable": true
   },
   "outputs": [
    {
     "data": {
      "text/plain": [
       "<function matplotlib.pyplot.show>"
      ]
     },
     "execution_count": 11,
     "metadata": {},
     "output_type": "execute_result"
    },
    {
     "data": {
      "image/png": "[encoded data removed]",
      "text/plain": [
       "<matplotlib.figure.Figure at 0x7fc3c96541d0>"
      ]
     },
     "metadata": {},
     "output_type": "display_data"
    }
   ],
   "source": [
    "x = np.linspace(-10,20,100)\n",
    "y = x**2 - 6*x + 5\n",
    "\n",
    "x, y = (zip(*enumerate(cost)))\n",
    "\n",
    "fig, ax = plt.subplots(1, 1)\n",
    "fig.set_facecolor('#EAEAF2')\n",
    "plt.plot(x,y, 'r-', alpha=0.7)\n",
    "plt.ylim([-10,150])\n",
    "plt.gcf().set_size_inches((10,3))\n",
    "plt.grid(True)\n",
    "plt.show"
   ]
  },
  {
   "cell_type": "code",
   "execution_count": 12,
   "metadata": {
    "collapsed": false,
    "deletable": true,
    "editable": true
   },
   "outputs": [
    {
     "data": {
      "text/plain": [
       "<function matplotlib.pyplot.show>"
      ]
     },
     "execution_count": 12,
     "metadata": {},
     "output_type": "execute_result"
    },
    {
     "data": {
      "image/png": "[encoded data removed]",
      "text/plain": [
       "<matplotlib.figure.Figure at 0x7fc3c96cdf10>"
      ]
     },
     "metadata": {},
     "output_type": "display_data"
    }
   ],
   "source": [
    "x = np.linspace(-10,20,100)\n",
    "y = x**2 - 6*x + 5\n",
    "\n",
    "fig, ax = plt.subplots(1, 1)\n",
    "fig.set_facecolor('#EAEAF2')\n",
    "plt.plot(x,y, 'r-')\n",
    "plt.ylim([-10,250])\n",
    "plt.gcf().set_size_inches((10,3))\n",
    "plt.grid(True)\n",
    "plt.plot(mins,cost,'o', alpha=0.3)\n",
    "ax.text(start,\n",
    "        start**2 - 6*start + 25,\n",
    "        'Start',\n",
    "        ha='center',\n",
    "        color=sns.xkcd_rgb['blue'],\n",
    "       )\n",
    "ax.text(mins[-1],\n",
    "        cost[-1]+20,\n",
    "        'End (%s steps)' % len(mins),\n",
    "        ha='center',\n",
    "        color=sns.xkcd_rgb['blue'],\n",
    "       )\n",
    "plt.show"
   ]
  },
  {
   "cell_type": "markdown",
   "metadata": {
    "deletable": true,
    "editable": true
   },
   "source": [
    "## From derivatives to gradient: $n$-dimensional function minimization.\n",
    "\n",
    "Let's consider a $n$-dimensional function $f: \\Re^n \\rightarrow \\Re$. For example: \n",
    "\n",
    "$$f(\\mathbf{x}) = \\sum_{n} x_n^2$$\n",
    "\n",
    "Our objective is to find the argument  $\\mathbf{x}$ that minimizes this function.\n",
    "\n",
    "The **gradient** of $f$ is the vector whose components are the $n$ partial derivatives of $f$. It is thus a vector-valued function. \n",
    "\n",
    "The gradient points in the direction of the greatest rate of **increase** of the function.\n",
    "\n",
    "$$\\nabla {f} = (\\frac{\\partial f}{\\partial x_1}, \\dots, \\frac{\\partial f}{\\partial x_n})$$"
   ]
  },
  {
   "cell_type": "code",
   "execution_count": 6,
   "metadata": {
    "collapsed": false,
    "deletable": true,
    "editable": true
   },
   "outputs": [
    {
     "name": "stdout",
     "output_type": "stream",
     "text": [
      "3.000000 [2.0000000001, 2.0000000001, 2.0000000001]\n",
      "3.000000 [2.0000009999, 2.0000009999, 2.0000009999]\n"
     ]
    }
   ],
   "source": [
    "def f(x):\n",
    "    return sum(x_i**2 for x_i in x)\n",
    "\n",
    "def fin_dif_partial_centered(x, \n",
    "                             f, \n",
    "                             i, \n",
    "                             h=1e-6):\n",
    "    '''\n",
    "    This method returns the partial derivative of the i-th \n",
    "    component of f at x\n",
    "    by using the centered finite difference method\n",
    "    '''\n",
    "    w1 = [x_j + (h if j==i else 0) for j, x_j in enumerate(x)]\n",
    "    w2 = [x_j - (h if j==i else 0) for j, x_j in enumerate(x)]\n",
    "    return (f(w1) - f(w2))/(2*h)\n",
    "\n",
    "def fin_dif_partial_old(x, \n",
    "                        f, \n",
    "                        i, \n",
    "                        h=1e-6):\n",
    "    '''\n",
    "    This method returns the partial derivative of the i-th \n",
    "    component of f at x\n",
    "    by using the (non-centered) finite difference method\n",
    "    '''\n",
    "    w1 = [x_j + (h if j==i else 0) for j, x_j in enumerate(x)]\n",
    "    return (f(w1) - f(x))/h\n",
    "\n",
    "def gradient_centered(x, \n",
    "                      f, \n",
    "                      h=1e-6):\n",
    "    '''\n",
    "    This method returns the gradient vector of f at x\n",
    "    by using the centered finite difference method\n",
    "    '''\n",
    "    return[round(fin_dif_partial_centered(x,f,i,h), 10) for i,_ in enumerate(x)]\n",
    "\n",
    "def gradient_old(x, \n",
    "                 f, \n",
    "                 h=1e-6):\n",
    "    '''\n",
    "    This method returns the the gradient vector of f at x\n",
    "    by using the (non-centered)ç finite difference method\n",
    "    '''\n",
    "    return[round(fin_dif_partial_old(x,f,i,h), 10) for i,_ in enumerate(x)]\n",
    "\n",
    "x = [1.0,1.0,1.0]\n",
    "\n",
    "print '{:.6f}'.format(f(x)), gradient_centered(x,f)\n",
    "print '{:.6f}'.format(f(x)), gradient_old(x,f) "
   ]
  },
  {
   "cell_type": "markdown",
   "metadata": {
    "deletable": true,
    "editable": true
   },
   "source": [
    "The function we have evaluated, $f({\\mathbf x}) = x_1^2+x_2^2+x_3^2$, is $3$ at $(1,1,1)$ and the gradient vector at this point is $(2,2,2)$. \n",
    "\n",
    "Then, we can follow this steps to maximize (or minimize) the function:\n",
    "\n",
    "+ Start from a random $\\mathbf{x}$ vector.\n",
    "+ Compute the gradient vector.\n",
    "+ Walk a small step in the opposite direction of the gradient vector."
   ]
  },
  {
   "cell_type": "markdown",
   "metadata": {
    "deletable": true,
    "editable": true
   },
   "source": [
    "> It is important to be aware that gradient computation is very expensive: if $\\mathbf{x}$ has dimension $n$, we have to evaluate $f$ at $2*n$ points.\n",
    "\n",
    "\n",
    "### How to use the gradient.\n",
    "\n",
    "$f(x) = \\sum_i x_i^2$, takes its mimimum value when all $x$ are 0. \n",
    "\n",
    "Let's check it for $n=3$: "
   ]
  },
  {
   "cell_type": "code",
   "execution_count": 14,
   "metadata": {
    "collapsed": true,
    "deletable": true,
    "editable": true
   },
   "outputs": [],
   "source": [
    "def euc_dist(v1,v2):\n",
    "    import numpy as np\n",
    "    import math\n",
    "    v = np.array(v1)-np.array(v2)\n",
    "    return math.sqrt(sum(v_i ** 2 for v_i in v))"
   ]
  },
  {
   "cell_type": "markdown",
   "metadata": {
    "deletable": true,
    "editable": true
   },
   "source": [
    "Let's start by choosing a random vector and then walking a step in the opposite direction of the gradient vector. We will stop when the difference between the new solution and the old solution is less than a tolerance value."
   ]
  },
  {
   "cell_type": "code",
   "execution_count": 7,
   "metadata": {
    "collapsed": false,
    "deletable": true,
    "editable": true
   },
   "outputs": [
    {
     "data": {
      "text/plain": [
       "[5, -3, 10]"
      ]
     },
     "execution_count": 7,
     "metadata": {},
     "output_type": "execute_result"
    }
   ],
   "source": [
    "# choosing a random vector\n",
    "\n",
    "import random\n",
    "import numpy as np\n",
    "\n",
    "x = [random.randint(-10,10) for i in range(3)]\n",
    "x"
   ]
  },
  {
   "cell_type": "code",
   "execution_count": 16,
   "metadata": {
    "collapsed": false,
    "deletable": true,
    "editable": true
   },
   "outputs": [
    {
     "name": "stdout",
     "output_type": "stream",
     "text": [
      "[0.0, -0.0, 0.0]\n"
     ]
    }
   ],
   "source": [
    "def step(x,\n",
    "         grad,\n",
    "         alpha):\n",
    "    '''\n",
    "    This function makes a step in the opposite direction of \n",
    "    the gradient vector \n",
    "    in order to compute a new value for the target function.\n",
    "    '''\n",
    "    return [x_i - alpha * grad_i for x_i, grad_i in zip(x,grad)]\n",
    "\n",
    "tol = 1e-15\n",
    "alpha = 0.01\n",
    "while True:\n",
    "    grad = gradient_centered(x,f)\n",
    "    next_x = step(x,grad,alpha)\n",
    "    if euc_dist(next_x,x) < tol:\n",
    "        break\n",
    "    x = next_x\n",
    "print [round(i,10) for i in x]"
   ]
  },
  {
   "cell_type": "markdown",
   "metadata": {
    "deletable": true,
    "editable": true
   },
   "source": [
    "### Alpha\n",
    "\n",
    "The step size, **alpha**, is a slippy concept: if it is too small we will slowly converge to the solution, if it is too large we can diverge from the solution. \n",
    "\n",
    "There are several policies to follow when selecting the step size:\n",
    "\n",
    "+ Constant size steps. In this case, the size step determines the precision of the solution.\n",
    "+ Decreasing step sizes.\n",
    "+ At each step, select the optimal step.\n",
    "\n",
    "The last policy is good, but too expensive. In this case we would consider a fixed set of values:"
   ]
  },
  {
   "cell_type": "code",
   "execution_count": 17,
   "metadata": {
    "collapsed": true,
    "deletable": true,
    "editable": true
   },
   "outputs": [],
   "source": [
    "step_size = [100, 10, 1, 0.1, 0.01, 0.001, 0.0001, 0.00001]"
   ]
  },
  {
   "cell_type": "markdown",
   "metadata": {
    "deletable": true,
    "editable": true
   },
   "source": [
    "## Learning from data\n",
    "\n",
    "In general, we have:\n",
    "\n",
    "+ A dataset $(\\mathbf{x},y)$ of $n$ examples. \n",
    "+ A target function $f_\\mathbf{w}$, that we want to minimize, representing the **discrepancy between our data and the model** we want to fit. The model is represented by a set of parameters $\\mathbf{w}$. \n",
    "+ The gradient of the target function, $g_f$. \n",
    "\n",
    "\n",
    "In the most common case $f$ represents the errors from a data representation model $M$. To fit the model is to find the optimal parameters $\\mathbf{w}$ that minimize the following expression:\n",
    "\n",
    "$$ f_\\mathbf{w} = \\frac{1}{n} \\sum_{i} (y_i - M(\\mathbf{x}_i,\\mathbf{w}))^2 $$\n",
    "\n",
    "For example, $(\\mathbf{x},y)$ can represent:\n",
    "\n",
    "+ $\\mathbf{x}$: the behavior of a \"Candy Crush\" player; $y$: monthly payments. \n",
    "+ $\\mathbf{x}$: sensor data about your car engine; $y$: probability of engine error.\n",
    "+ $\\mathbf{x}$: finantial data of a bank customer; $y$: customer rating.\n",
    "\n",
    "> If $y$ is a real value, it is called a *regression* problem.\n",
    "\n",
    "> If $y$ is binary/categorical, it is called a *classification* problem. \n",
    "\n",
    "Let's suppose that our model is a one-dimensional linear model $M(\\mathbf{x},\\mathbf{w}) = w \\cdot x $. \n",
    "\n",
    "### Batch gradient descend\n",
    "\n",
    "We can implement **gradient descend** in the following way (*batch gradient descend*):"
   ]
  },
  {
   "cell_type": "code",
   "execution_count": 9,
   "metadata": {
    "collapsed": false,
    "deletable": true,
    "editable": true
   },
   "outputs": [],
   "source": [
    "import numpy as np\n",
    "import random\n",
    "\n",
    "# f = 2x\n",
    "x = np.arange(10)\n",
    "y = np.array([2*i for i in x])\n",
    "\n",
    "# f_target = 1/n Sum (y - wx)**2\n",
    "def target_f(x,y,w):\n",
    "    return np.sum((y - x * w)**2.0) / x.size\n",
    "\n",
    "# gradient_f = 2/n Sum 2wx**2 - 2xy\n",
    "def gradient_f(x,y,w):\n",
    "    return 2 * np.sum(2*w*(x**2) - 2*x*y) / x.size\n",
    "\n",
    "def step(w,grad,alpha):\n",
    "    return w - alpha * grad\n",
    "\n",
    "def BGD_multi_step(target_f, \n",
    "                   gradient_f, \n",
    "                   x, \n",
    "                   y, \n",
    "                   toler = 1e-6):\n",
    "    '''\n",
    "    Batch gradient descend by using a multi-step approach\n",
    "    '''\n",
    "    alphas = [100, 10, 1, 0.1, 0.001, 0.00001]\n",
    "    w = random.random()\n",
    "    val = target_f(x,y,w)\n",
    "    i = 0\n",
    "    while True:\n",
    "        i += 1\n",
    "        gradient = gradient_f(x,y,w)\n",
    "        next_ws = [step(w, gradient, alpha) for alpha in alphas]\n",
    "        next_vals = [target_f(x,y,w) for w in next_ws]\n",
    "        min_val = min(next_vals)\n",
    "        next_w = next_ws[next_vals.index(min_val)]   \n",
    "        next_val = target_f(x,y,next_w)    \n",
    "        if (abs(val - next_val) < toler):\n",
    "            return w\n",
    "        else:\n",
    "            w, val = next_w, next_val"
   ]
  },
  {
   "cell_type": "code",
   "execution_count": 10,
   "metadata": {
    "collapsed": false,
    "deletable": true,
    "editable": true
   },
   "outputs": [
    {
     "name": "stdout",
     "output_type": "stream",
     "text": [
      "1.999633\n"
     ]
    }
   ],
   "source": [
    "print '{:.6f}'.format(BGD_multi_step(target_f, gradient_f, x, y))"
   ]
  },
  {
   "cell_type": "code",
   "execution_count": 11,
   "metadata": {
    "collapsed": false,
    "deletable": true,
    "editable": true
   },
   "outputs": [
    {
     "name": "stdout",
     "output_type": "stream",
     "text": [
      "100 loops, best of 3: 3.09 ms per loop\n"
     ]
    }
   ],
   "source": [
    "%%timeit\n",
    "BGD_multi_step(target_f, gradient_f, x, y)"
   ]
  },
  {
   "cell_type": "code",
   "execution_count": 12,
   "metadata": {
    "collapsed": true,
    "deletable": true,
    "editable": true
   },
   "outputs": [],
   "source": [
    "def BGD(target_f, \n",
    "        gradient_f, \n",
    "        x, \n",
    "        y, \n",
    "        toler = 1e-6, \n",
    "        alpha=0.01):\n",
    "    '''\n",
    "    Batch gradient descend by using a given step\n",
    "    '''\n",
    "    w = random.random()\n",
    "    val = target_f(x,y,w)\n",
    "    i = 0\n",
    "    while True:\n",
    "        i += 1\n",
    "        gradient = gradient_f(x,y,w)\n",
    "        next_w = step(w, gradient, alpha)\n",
    "        next_val = target_f(x,y,next_w)    \n",
    "        if (abs(val - next_val) < toler):\n",
    "            return w\n",
    "        else:\n",
    "            w, val = next_w, next_val"
   ]
  },
  {
   "cell_type": "code",
   "execution_count": 13,
   "metadata": {
    "collapsed": false,
    "deletable": true,
    "editable": true
   },
   "outputs": [
    {
     "name": "stdout",
     "output_type": "stream",
     "text": [
      "2.000067\n"
     ]
    }
   ],
   "source": [
    "print '{:.6f}'.format(BGD(target_f, gradient_f, x, y))"
   ]
  },
  {
   "cell_type": "code",
   "execution_count": 14,
   "metadata": {
    "collapsed": false,
    "deletable": true,
    "editable": true
   },
   "outputs": [
    {
     "name": "stdout",
     "output_type": "stream",
     "text": [
      "10000 loops, best of 3: 90.2 µs per loop\n"
     ]
    }
   ],
   "source": [
    "%%timeit\n",
    "BGD(target_f, gradient_f, x, y)"
   ]
  },
  {
   "cell_type": "markdown",
   "metadata": {
    "deletable": true,
    "editable": true
   },
   "source": [
    "### Stochastic Gradient Descend\n",
    "\n",
    "The last function evals the whole dataset $(\\mathbf{x}_i,y_i)$ at every step. \n",
    "\n",
    "If the dataset is large, this strategy is too costly. In this case we will use a strategy called **SGD** (*Stochastic Gradient Descend*).\n",
    "\n",
    "When learning from data, the cost function is additive: it is computed by adding sample reconstruction errors. \n",
    "\n",
    "Then, we can compute the estimate the gradient (and move towards the minimum) by using only **one data sample** (or a small data sample).\n",
    "\n",
    "Thus, we will find the minimum by iterating this gradient estimation over the dataset.\n",
    "\n",
    "A full iteration over the dataset is called **epoch**. During an epoch, data must be used in a random order.\n",
    "\n",
    "If we apply this method we have some theoretical guarantees to find a good minimum:\n",
    "+ SGD essentially uses the inaccurate gradient per iteration. Since there is no free food, what is the cost by using approximate gradient? The answer is that the convergence rate is slower than the gradient descent algorithm.\n",
    "+ The convergence of SGD has been analyzed using the theories of convex minimization and of stochastic approximation: it converges almost surely to a global minimum when the objective function is convex or pseudoconvex, and otherwise converges almost surely to a local minimum."
   ]
  },
  {
   "cell_type": "code",
   "execution_count": 17,
   "metadata": {
    "collapsed": false,
    "deletable": true,
    "editable": true
   },
   "outputs": [
    {
     "name": "stdout",
     "output_type": "stream",
     "text": [
      "  0   0\n",
      "  1   2\n",
      "  2   4\n",
      "  3   6\n",
      "  4   8\n",
      "  5  10\n",
      "  6  12\n",
      "  7  14\n",
      "  8  16\n",
      "  9  18\n",
      "\n",
      "  5  10\n",
      "  3   6\n",
      "  2   4\n",
      "  8  16\n",
      "  9  18\n",
      "  6  12\n",
      "  1   2\n",
      "  0   0\n",
      "  7  14\n",
      "  4   8\n"
     ]
    }
   ],
   "source": [
    "import numpy as np\n",
    "x = np.arange(10)\n",
    "y = np.array([2*i for i in x])\n",
    "data = zip(x,y)\n",
    "\n",
    "for (x_i,y_i) in data:\n",
    "    print '{:3d} {:3d}'.format(x_i,y_i)\n",
    "print\n",
    "\n",
    "def in_random_order(data):\n",
    "    '''\n",
    "    Random data generator\n",
    "    '''\n",
    "    import random\n",
    "    indexes = [i for i,_ in enumerate(data)]\n",
    "    random.shuffle(indexes)\n",
    "    for i in indexes:\n",
    "        yield data[i]\n",
    "        \n",
    "for (x_i,y_i) in in_random_order(data):\n",
    "    print '{:3d} {:3d}'.format(x_i,y_i)"
   ]
  },
  {
   "cell_type": "code",
   "execution_count": 18,
   "metadata": {
    "collapsed": false,
    "deletable": true,
    "editable": true
   },
   "outputs": [],
   "source": [
    "import numpy as np\n",
    "import random\n",
    "\n",
    "def SGD(target_f, \n",
    "        gradient_f, \n",
    "        x, \n",
    "        y, \n",
    "        toler = 1e-6, \n",
    "        epochs=100, \n",
    "        alpha_0=0.01):\n",
    "    '''\n",
    "    Stochastic gradient descend with automatic step adaptation (by\n",
    "    reducing the step to its 95% when there are iterations with \n",
    "    no increase)\n",
    "    '''\n",
    "    data = zip(x,y)\n",
    "    w = random.random()\n",
    "    alpha = alpha_0\n",
    "    min_w, min_val = float('inf'), float('inf')\n",
    "    epoch = 0\n",
    "    iteration_no_increase = 0\n",
    "    while epoch < epochs and iteration_no_increase < 100:\n",
    "        val = target_f(x, y, w)\n",
    "        if min_val - val > toler:\n",
    "            min_w, min_val = w, val\n",
    "            alpha = alpha_0\n",
    "            iteration_no_increase = 0\n",
    "        else:\n",
    "            iteration_no_increase += 1\n",
    "            alpha *= 0.95\n",
    "        for x_i, y_i in in_random_order(data):\n",
    "            gradient_i = gradient_f(x_i, y_i, w)\n",
    "            w = w - (alpha *  gradient_i)\n",
    "        epoch += 1\n",
    "    return min_w"
   ]
  },
  {
   "cell_type": "code",
   "execution_count": 19,
   "metadata": {
    "collapsed": false,
    "deletable": true,
    "editable": true
   },
   "outputs": [
    {
     "name": "stdout",
     "output_type": "stream",
     "text": [
      "w: 2.000000\n"
     ]
    }
   ],
   "source": [
    "print 'w: {:.6f}'.format(SGD(target_f, gradient_f, x, y))"
   ]
  },
  {
   "cell_type": "markdown",
   "metadata": {
    "deletable": true,
    "editable": true
   },
   "source": [
    "## Exercise: Stochastic Gradient Descent and Linear Regression\n",
    "\n",
    "The linear regression model assumes a linear relationship between data:\n",
    "\n",
    "$$ y_i = w_1 x_i + w_0 $$\n",
    "\n",
    "Let's generate a more realistic dataset (with noise), where $w_1 = 2$ and $w_0 = 0$."
   ]
  },
  {
   "cell_type": "code",
   "execution_count": 1,
   "metadata": {
    "collapsed": false,
    "deletable": true,
    "editable": true
   },
   "outputs": [
    {
     "name": "stdout",
     "output_type": "stream",
     "text": [
      "Once deleted, variables cannot be recovered. Proceed (y/[n])? y\n"
     ]
    }
   ],
   "source": [
    "%reset\n",
    "import warnings\n",
    "warnings.filterwarnings('ignore')\n",
    "\n",
    "import numpy as np\n",
    "import seaborn as sns\n",
    "import matplotlib.pyplot as plt\n",
    "from sklearn.datasets.samples_generator import make_regression \n",
    "from scipy import stats \n",
    "import random\n",
    "\n",
    "%matplotlib inline"
   ]
  },
  {
   "cell_type": "code",
   "execution_count": 2,
   "metadata": {
    "collapsed": false,
    "deletable": true,
    "editable": true
   },
   "outputs": [
    {
     "data": {
      "text/plain": [
       "<function matplotlib.pyplot.show>"
      ]
     },
     "execution_count": 2,
     "metadata": {},
     "output_type": "execute_result"
    },
    {
     "data": {
      "image/png": "[encoded data removed]",
      "text/plain": [
       "<matplotlib.figure.Figure at 0x7fc322c1c350>"
      ]
     },
     "metadata": {},
     "output_type": "display_data"
    }
   ],
   "source": [
    "# x: input data\n",
    "# y: noisy output data\n",
    "\n",
    "x = np.random.uniform(0,1,20)\n",
    "\n",
    "# f = 2x + 0\n",
    "def f(x): return 2*x + 0\n",
    "\n",
    "noise_variance =0.1\n",
    "noise = np.random.randn(x.shape[0])*noise_variance\n",
    "y = f(x) + noise\n",
    "\n",
    "fig, ax = plt.subplots(1, 1)\n",
    "fig.set_facecolor('#EAEAF2')\n",
    "plt.xlabel('$x$', fontsize=15)\n",
    "plt.ylabel('$f(x)$', fontsize=15)\n",
    "plt.plot(x, y, 'o', label='y')\n",
    "plt.plot([0, 1], [f(0), f(1)], 'b-', label='f(x)')\n",
    "plt.ylim([0,2])\n",
    "plt.gcf().set_size_inches((10,3))\n",
    "plt.grid(True)\n",
    "plt.show"
   ]
  },
  {
   "cell_type": "markdown",
   "metadata": {},
   "source": [
    "Complete the following code in order to:\n",
    "+ Compute the value of $w$ by using a estimator based on minimizing the squared error.\n",
    "+ Get from SGD function a list, `target_value`, representing the value of the target function at each iteration.\n"
   ]
  },
  {
   "cell_type": "code",
   "execution_count": null,
   "metadata": {
    "collapsed": false,
    "deletable": true,
    "editable": true
   },
   "outputs": [],
   "source": [
    "# Write your target function as f_target 1/n Sum (y - wx)**2\n",
    "def target_f(x,y,w):\n",
    "    # your code here\n",
    "\n",
    "# Write your gradient function\n",
    "def gradient_f(x,y,w):\n",
    "    # your code here\n",
    "\n",
    "def in_random_order(data):\n",
    "    '''\n",
    "    Random data generator\n",
    "    '''\n",
    "    import random\n",
    "    indexes = [i for i,_ in enumerate(data)]\n",
    "    random.shuffle(indexes)\n",
    "    for i in indexes:\n",
    "        yield data[i]\n",
    "\n",
    "# Modify the SGD function to return a 'target_value' vector\n",
    "def SGD(target_f, \n",
    "        gradient_f, \n",
    "        x, \n",
    "        y, \n",
    "        toler = 1e-6, \n",
    "        epochs=100, \n",
    "        alpha_0=0.01):\n",
    "    \n",
    "    # Insert your code among the following lines\n",
    "    \n",
    "    data = zip(x,y)\n",
    "    w = random.random()\n",
    "    alpha = alpha_0\n",
    "    min_w, min_val = float('inf'), float('inf')\n",
    "    iteration_no_increase = 0\n",
    "    epoch = 0\n",
    "    while epoch < epochs and iteration_no_increase < 100:\n",
    "        val = target_f(x, y, w)\n",
    "        if min_val - val > toler:\n",
    "            min_w, min_val = w, val\n",
    "            alpha = alpha_0\n",
    "            iteration_no_increase = 0\n",
    "        else:\n",
    "            iteration_no_increase += 1\n",
    "            alpha *= 0.95\n",
    "        for x_i, y_i in in_random_order(data):\n",
    "            gradient_i = gradient_f(x_i, y_i, w)\n",
    "            w = w - (alpha *  gradient_i)\n",
    "        epoch += 1\n",
    "    return min_w"
   ]
  },
  {
   "cell_type": "code",
   "execution_count": null,
   "metadata": {
    "collapsed": false,
    "deletable": true,
    "editable": true
   },
   "outputs": [],
   "source": [
    "# Print the value of the solution\n",
    "\n",
    "w, target_value = SGD(target_f, gradient_f, x, y)\n",
    "print 'w: {:.6f}'.format(w)"
   ]
  },
  {
   "cell_type": "code",
   "execution_count": null,
   "metadata": {
    "collapsed": false,
    "deletable": true,
    "editable": true
   },
   "outputs": [],
   "source": [
    "# Visualize the solution regression line\n",
    "\n",
    "fig, ax = plt.subplots(1, 1)\n",
    "fig.set_facecolor('#EAEAF2')\n",
    "plt.plot(x, y, 'o', label='t')\n",
    "plt.plot([0, 1], [f(0), f(1)], 'b-', label='f(x)', alpha=0.5)\n",
    "plt.plot([0, 1], [0*w, 1*w], 'r-', label='fitted line', alpha=0.5, linestyle='--')\n",
    "plt.xlabel('input x')\n",
    "plt.ylabel('target t')\n",
    "plt.title('input vs. target')\n",
    "plt.ylim([0,2])\n",
    "plt.gcf().set_size_inches((10,3))\n",
    "plt.grid(True)\n",
    "plt.show"
   ]
  },
  {
   "cell_type": "code",
   "execution_count": null,
   "metadata": {
    "collapsed": false,
    "deletable": true,
    "editable": true,
    "scrolled": true
   },
   "outputs": [],
   "source": [
    "# Visualize the evolution of the target function value during iterations.\n",
    "\n",
    "fig, ax = plt.subplots(1, 1)\n",
    "fig.set_facecolor('#EAEAF2')\n",
    "plt.plot(np.arange(target_value.size), target_value, 'o', alpha = 0.2)\n",
    "plt.xlabel('Iteration')\n",
    "plt.ylabel('Cost')\n",
    "plt.grid()\n",
    "plt.gcf().set_size_inches((10,3))\n",
    "plt.grid(True)\n",
    "plt.show()"
   ]
  },
  {
   "cell_type": "markdown",
   "metadata": {
    "deletable": true,
    "editable": true
   },
   "source": [
    "## Mini-batch Gradient Descent"
   ]
  },
  {
   "cell_type": "markdown",
   "metadata": {
    "deletable": true,
    "editable": true
   },
   "source": [
    "In code, general batch gradient descent looks something like this:\n",
    "\n",
    "```python\n",
    "nb_epochs = 100\n",
    "for i in range(nb_epochs):\n",
    "    grad = evaluate_gradient(target_f, data, w)\n",
    "    w = w - learning_rate * grad\n",
    "```\n",
    "\n",
    "For a pre-defined number of epochs, we first compute the gradient vector of the target function for the whole dataset w.r.t. our parameter vector. \n",
    "\n",
    "**Stochastic gradient descent** (SGD) in contrast performs a parameter update for each training example and label:\n",
    "\n",
    "```python\n",
    "nb_epochs = 100\n",
    "for i in range(nb_epochs):\n",
    "    np.random.shuffle(data)\n",
    "    for sample in data:\n",
    "        grad = evaluate_gradient(target_f, sample, w)\n",
    "        w = w - learning_rate * grad\n",
    "```\n",
    "\n",
    "Mini-batch gradient descent finally takes the best of both worlds and performs an update for every mini-batch of $n$ training examples:\n",
    "\n",
    "```python\n",
    "nb_epochs = 100\n",
    "for i in range(nb_epochs):\n",
    "  np.random.shuffle(data)\n",
    "  for batch in get_batches(data, batch_size=50):\n",
    "    grad = evaluate_gradient(target_f, batch, w)\n",
    "    w = w - learning_rate * grad\n",
    "```\n",
    "\n",
    "Minibatch SGD has the advantage that it works with a slightly less noisy estimate of the gradient. However, as the minibatch size increases, the number of updates done per computation done decreases (eventually it becomes very inefficient, like batch gradient descent). \n",
    "\n",
    "There is an optimal trade-off (in terms of computational efficiency) that may vary depending on the data distribution and the particulars of the class of function considered, as well as how computations are implemented."
   ]
  },
  {
   "cell_type": "code",
   "execution_count": 31,
   "metadata": {
    "collapsed": false,
    "deletable": true,
    "editable": true
   },
   "outputs": [
    {
     "name": "stdout",
     "output_type": "stream",
     "text": [
      "[(6, 16), (2, 12), (8, 18)]\n",
      "[(7, 17), (3, 13), (5, 15)]\n",
      "[(1, 11), (4, 14), (9, 19)]\n",
      "[(0, 10)]\n",
      "\n",
      "[6 2 8] [16 12 18]\n",
      "[7 3 5] [17 13 15]\n",
      "[1 4 9] [11 14 19]\n",
      "[0] [10]\n"
     ]
    }
   ],
   "source": [
    "def get_batches(iterable, \n",
    "                num_elem_batch = 1):\n",
    "    '''\n",
    "    Generator of batches from an iterable that contains data\n",
    "    '''\n",
    "    current_batch = []\n",
    "    for item in iterable:\n",
    "        current_batch.append(item)\n",
    "        if len(current_batch) == num_elem_batch:\n",
    "            yield current_batch\n",
    "            current_batch = []\n",
    "    if current_batch:\n",
    "        yield current_batch\n",
    "\n",
    "x = np.array(range(0, 10))\n",
    "y = np.array(range(10, 20))\n",
    "data = zip(x,y)\n",
    "np.random.shuffle(data)\n",
    "for x in get_batches(data, 3):\n",
    "    print x\n",
    "\n",
    "print\n",
    "\n",
    "for batch in get_batches(data, 3):\n",
    "    print np.array(zip(*batch)[0]), np.array(zip(*batch)[1])"
   ]
  },
  {
   "cell_type": "code",
   "execution_count": 32,
   "metadata": {
    "collapsed": false,
    "deletable": true,
    "editable": true
   },
   "outputs": [
    {
     "name": "stdout",
     "output_type": "stream",
     "text": [
      "Once deleted, variables cannot be recovered. Proceed (y/[n])? y\n"
     ]
    }
   ],
   "source": [
    "%reset\n",
    "import warnings\n",
    "warnings.filterwarnings('ignore')\n",
    "\n",
    "import numpy as np\n",
    "import seaborn as sns\n",
    "import matplotlib.pyplot as plt\n",
    "from sklearn.datasets.samples_generator import make_regression \n",
    "from scipy import stats \n",
    "import random\n",
    "\n",
    "%matplotlib inline"
   ]
  },
  {
   "cell_type": "code",
   "execution_count": 33,
   "metadata": {
    "collapsed": false,
    "deletable": true,
    "editable": true
   },
   "outputs": [
    {
     "data": {
      "image/png": "[encoded data removed]",
      "text/plain": [
       "<matplotlib.figure.Figure at 0x7fc3c995b110>"
      ]
     },
     "metadata": {},
     "output_type": "display_data"
    }
   ],
   "source": [
    "# x: input data\n",
    "# y: noisy output data\n",
    "\n",
    "x = np.random.uniform(0,1,2000)\n",
    "\n",
    "# f = 2x + 0\n",
    "def f(x): return 2*x + 0\n",
    "\n",
    "noise_variance =0.1\n",
    "noise = np.random.randn(x.shape[0])*noise_variance\n",
    "y = f(x) + noise\n",
    "\n",
    "plt.plot(x, y, 'o', label='y')\n",
    "plt.plot([0, 1], [f(0), f(1)], 'b-', label='f(x)')\n",
    "plt.xlabel('$x$', fontsize=15)\n",
    "plt.ylabel('$t$', fontsize=15)\n",
    "plt.ylim([0,2])\n",
    "plt.title('inputs (x) vs targets (y)')\n",
    "plt.grid()\n",
    "plt.legend(loc=2)\n",
    "plt.gcf().set_size_inches((10,3))\n",
    "plt.show()"
   ]
  },
  {
   "cell_type": "code",
   "execution_count": 34,
   "metadata": {
    "collapsed": true,
    "deletable": true,
    "editable": true
   },
   "outputs": [],
   "source": [
    "# f_target = 1/n Sum (y - wx)**2\n",
    "def target_f(x,\n",
    "             y,\n",
    "             w):\n",
    "    return np.sum((y - x * w)**2.0) / x.size\n",
    "\n",
    "# gradient_f = 2/n Sum 2wx**2 - 2xy\n",
    "def gradient_f(x,\n",
    "               y,\n",
    "               w):\n",
    "    return 2 * np.sum(2*w*(x**2) - 2*x*y) / x.size\n",
    "\n",
    "def in_random_order(data):\n",
    "    '''\n",
    "    Random data generator\n",
    "    '''\n",
    "    import random\n",
    "    indexes = [i for i,_ in enumerate(data)]\n",
    "    random.shuffle(indexes)\n",
    "    for i in indexes:\n",
    "        yield data[i]\n",
    "        \n",
    "def get_batches(iterable, \n",
    "                num_elem_batch = 1):\n",
    "    '''\n",
    "    Generator of batches from an iterable that contains data\n",
    "    '''\n",
    "    current_batch = []\n",
    "    for item in iterable:\n",
    "        current_batch.append(item)\n",
    "        if len(current_batch) == num_elem_batch:\n",
    "            yield current_batch\n",
    "            current_batch = []\n",
    "    if current_batch:\n",
    "        yield current_batch\n",
    "\n",
    "def SGD_MB(target_f, gradient_f, x, y, epochs=100, alpha_0=0.01):\n",
    "    data = zip(x,y)\n",
    "    w = random.random()\n",
    "    alpha = alpha_0\n",
    "    min_w, min_val = float('inf'), float('inf')\n",
    "    epoch = 0\n",
    "    while epoch < epochs:\n",
    "        val = target_f(x, y, w)\n",
    "        if val < min_val:\n",
    "            min_w, min_val = w, val\n",
    "            alpha = alpha_0\n",
    "        else:\n",
    "            alpha *= 0.9\n",
    "        np.random.shuffle(data)\n",
    "        for batch in get_batches(data, num_elem_batch = 100):\n",
    "            x_batch = np.array(zip(*batch)[0])\n",
    "            y_batch = np.array(zip(*batch)[1])\n",
    "            gradient = gradient_f(x_batch, y_batch, w)\n",
    "            w = w - (alpha *  gradient)\n",
    "        epoch += 1\n",
    "    return min_w"
   ]
  },
  {
   "cell_type": "code",
   "execution_count": 35,
   "metadata": {
    "collapsed": false,
    "deletable": true,
    "editable": true
   },
   "outputs": [
    {
     "name": "stdout",
     "output_type": "stream",
     "text": [
      "w: 2.000711\n"
     ]
    }
   ],
   "source": [
    "w = SGD_MB(target_f, gradient_f, x, y)\n",
    "print 'w: {:.6f}'.format(w)"
   ]
  },
  {
   "cell_type": "code",
   "execution_count": 36,
   "metadata": {
    "collapsed": false,
    "deletable": true,
    "editable": true
   },
   "outputs": [
    {
     "data": {
      "image/png": "[encoded data removed]",
      "text/plain": [
       "<matplotlib.figure.Figure at 0x7fc3c995b250>"
      ]
     },
     "metadata": {},
     "output_type": "display_data"
    }
   ],
   "source": [
    "plt.plot(x, y, 'o', label='t')\n",
    "plt.plot([0, 1], [f(0), f(1)], 'b-', label='f(x)', alpha=0.5)\n",
    "plt.plot([0, 1], [0*w, 1*w], 'r-', label='fitted line', alpha=0.5, linestyle='--')\n",
    "plt.xlabel('input x')\n",
    "plt.ylabel('target t')\n",
    "plt.ylim([0,2])\n",
    "plt.title('input vs. target')\n",
    "plt.grid()\n",
    "plt.legend(loc=2)\n",
    "plt.gcf().set_size_inches((10,3))\n",
    "plt.show()"
   ]
  },
  {
   "cell_type": "markdown",
   "metadata": {
    "deletable": true,
    "editable": true
   },
   "source": [
    "## Loss Funtions\n",
    "\n",
    "Loss functions $L(y, f(\\mathbf{x})) = \\frac{1}{n} \\sum_i \\ell(y_i, f(\\mathbf{x_i}))$ represent the price paid for inaccuracy of predictions in classification/regression problems.\n",
    "\n",
    "In classification this function is often the **zero-one loss**, that is, $ \\ell(y_i, f(\\mathbf{x_i}))$ is zero when $y_i = f(\\mathbf{x}_i)$ and one otherwise.\n",
    "\n",
    "This function is discontinuous with flat regions and is thus extremely hard to optimize using gradient-based methods. For this reason it is usual to consider a proxy to the loss called a *surrogate loss function*. For computational reasons this is usually convex function. Here we have some examples:\n",
    "\n",
    "### Square / Euclidean Loss\n",
    "\n",
    "In regression problems, the most common loss function is the square loss function:\n",
    "\n",
    "$$ L(y, f(\\mathbf{x})) = \\frac{1}{n} \\sum_i (y_i - f(\\mathbf{x}_i))^2  $$\n",
    "\n",
    "The square loss function can be re-written and utilized for classification:\n",
    "\n",
    "$$ L(y, f(\\mathbf{x})) = \\frac{1}{n} \\sum_i (1 - y_i f(\\mathbf{x}_i))^2  $$\n",
    "\n",
    "\n",
    "### Hinge / Margin Loss (i.e. Suport Vector Machines)\n",
    "\n",
    "The hinge loss function is defined as:\n",
    "\n",
    "$$ L(y, f(\\mathbf{x})) = \\frac{1}{n} \\sum_i \\mbox{max}(0, 1 - y_i f(\\mathbf{x}_i))  $$\n",
    "\n",
    "The hinge loss provides a relatively tight, convex upper bound on the 0–1 Loss.\n",
    "\n",
    "\n",
    "<img src=\"images/loss_functions.png\">\n"
   ]
  },
  {
   "cell_type": "markdown",
   "metadata": {
    "deletable": true,
    "editable": true
   },
   "source": [
    "### Logistic Loss (Logistic Regression)\n",
    "\n",
    "This function displays a similar convergence rate to the hinge loss function, and since it is continuous, simple gradient descent methods can be utilized. \n",
    "\n",
    "$$ L(y, f(\\mathbf{x})) = \\frac{1}{n} \\sum_i log(1 + exp(-y_i f(\\mathbf{x}_i))) $$\n",
    "\n",
    "\n",
    "### Sigmoid Cross-Entropy Loss (Softmax classifier)\n",
    "\n",
    "Cross-Entropy is a loss function that is very used for training **multiclass problems**. We'll focus on models that assume that classes are mutually exclusive. \n",
    "\n",
    "In this case, our labels have this form $\\mathbf{y}_i =(1.0,0.0,0.0)$. If our model predicts a different distribution, say  $ f(\\mathbf{x}_i)=(0.4,0.1,0.5)$, then we'd like to nudge the parameters so that $f(\\mathbf{x}_i)$ gets closer to $\\mathbf{y}_i$.\n",
    "\n",
    "C.Shannon showed that if you want to send a series of messages composed of symbols from an alphabet with distribution $y$ ($y_j$  is the probability of the  $j$-th symbol), then to use the smallest number of bits on average, you should assign  $\\log(\\frac{1}{y_j})$  bits to the  $j$-th symbol. \n",
    "\n",
    "The optimal number of bits is known as **entropy**:\n",
    "\n",
    "$$ H(\\mathbf{y}) = \\sum_j y_j \\log\\frac{1}{y_j} = - \\sum_j y_j \\log y_j$$\n",
    "\n",
    "**Cross entropy** is the number of bits we'll need if we encode symbols by using a wrong distribution $\\hat y$:\n",
    "\n",
    "$$ H(y, \\hat y) =   - \\sum_j y_j \\log \\hat y_j $$ \n",
    "\n",
    "In our case, the real distribution is $\\mathbf{y}$ and the \"wrong\" one is $f(\\mathbf{x}_i)$. So, minimizing **cross entropy** with respect our model parameters will result in the model that best approximates our labels if considered as a probabilistic distribution. \n",
    "\n",
    "Cross entropy is used in combination with **Softmax** classifier. In order to classify $\\mathbf{x}_i$ we could take the index corresponding to the max value of $f(\\mathbf{x}_i)$, but Softmax gives a slightly more intuitive output (normalized class probabilities) and also has a probabilistic interpretation:\n",
    "\n",
    "$$ P(\\mathbf{y}_i = j \\mid \\mathbf{x_i}) = - log \\left( \\frac{e^{f_j(\\mathbf{x_i})}}{\\sum_k e^{f_k(\\mathbf{x_i})} } \\right) $$\n",
    "\n",
    "where $f_k$ is a linear classifier. \n"
   ]
  },
  {
   "cell_type": "markdown",
   "metadata": {
    "deletable": true,
    "editable": true
   },
   "source": [
    "## Advanced gradient descend\n",
    "\n",
    "\n",
    "### Momentum\n",
    "\n",
    "SGD has trouble navigating ravines, i.e. areas where the surface curves much more steeply in one dimension than in another, which are common around local optima. In these scenarios, SGD oscillates across the slopes of the ravine while only making hesitant progress along the bottom towards the local optimum.\n",
    "\n",
    "<img src=\"images/ridge2.png\">\n",
    "\n",
    "Momentum is a method that helps accelerate SGD in the relevant direction and dampens oscillations. It does this by adding a fraction of the update vector of the past time step to the current update vector:\n",
    "\n",
    "$$ v_t = m v_{t-1} + \\alpha \\nabla_w f $$\n",
    "$$ w = w - v_t    $$\n",
    "\n",
    "The momentum $m$ is commonly set to $0.9$.\n",
    "\n",
    "### Nesterov\n",
    "\n",
    "However, a ball that rolls down a hill, blindly following the slope, is highly unsatisfactory. We'd like to have a smarter ball, a ball that has a notion of where it is going so that it knows to slow down before the hill slopes up again.\n",
    "\n",
    "Nesterov accelerated gradient (NAG) is a way to give our momentum term this kind of prescience. We know that we will use our momentum term $m v_{t-1}$ to move the parameters $w$. Computing \n",
    "$w - m v_{t-1}$ thus gives us an approximation of the next position of the parameters (the gradient is missing for the full update), a rough idea where our parameters are going to be. We can now effectively look ahead by calculating the gradient not w.r.t. to our current parameters $w$ but w.r.t. the approximate future position of our parameters:\n",
    "\n",
    "$$ w_{new} = w - m v_{t-1} $$\n",
    "$$ v_t = m v_{t-1} + \\alpha \\nabla_{w_{new}} f $$\n",
    "$$ w = w - v_t $$\n",
    "\n",
    "### Adagrad\n",
    "\n",
    "All previous approaches manipulated the learning rate globally and equally for all parameters. Tuning the learning rates is an expensive process, so much work has gone into devising methods that can adaptively tune the learning rates, and even do so per parameter. \n",
    "\n",
    "Adagrad is an algorithm for gradient-based optimization that does just this: It adapts the learning rate to the parameters, performing larger updates for infrequent and smaller updates for frequent parameters.\n",
    "\n",
    "$$ c = c + (\\nabla_w f)^2 $$\n",
    "$$ w = w - \\frac{\\alpha}{\\sqrt{c}} $$ \n",
    "\n",
    "\n",
    "### RMProp\n",
    "\n",
    "RMSProp update adjusts the Adagrad method in a very simple way in an attempt to reduce its aggressive, monotonically decreasing learning rate. In particular, it uses a moving average of squared gradients instead, giving:\n",
    "\n",
    "$$ c = \\beta c + (1 - \\beta)(\\nabla_w f)^2 $$\n",
    "$$ w = w - \\frac{\\alpha}{\\sqrt{c}} $$ \n",
    "\n",
    "where $\\beta$ is a decay rate that controls the size of the moving average.\n",
    "\n",
    "\n",
    "<img src=\"images/g1.gif\">\n",
    "\n",
    "(Image credit: Alec Radford) \n",
    "\n",
    "<img src=\"images/g2.gif\">\n",
    "\n",
    "(Image credit: Alec Radford) \n"
   ]
  },
  {
   "cell_type": "code",
   "execution_count": 3,
   "metadata": {
    "collapsed": false,
    "deletable": true,
    "editable": true
   },
   "outputs": [
    {
     "name": "stdout",
     "output_type": "stream",
     "text": [
      "Once deleted, variables cannot be recovered. Proceed (y/[n])? y\n"
     ]
    }
   ],
   "source": [
    "%reset\n",
    "\n",
    "import warnings\n",
    "warnings.filterwarnings('ignore')\n",
    "\n",
    "import numpy as np\n",
    "import seaborn as sns\n",
    "import matplotlib.pyplot as plt\n",
    "from sklearn.datasets.samples_generator import make_regression \n",
    "from scipy import stats \n",
    "import random\n",
    "\n",
    "%matplotlib inline"
   ]
  },
  {
   "cell_type": "code",
   "execution_count": 4,
   "metadata": {
    "collapsed": false,
    "deletable": true,
    "editable": true
   },
   "outputs": [
    {
     "data": {
      "image/png": "[encoded data removed]",
      "text/plain": [
       "<matplotlib.figure.Figure at 0x7fc320ba35d0>"
      ]
     },
     "metadata": {},
     "output_type": "display_data"
    }
   ],
   "source": [
    "# the function that I'm going to plot\n",
    "def f(x,y):\n",
    "    return x**2 + 5*y**2\n",
    "\n",
    "x = np.arange(-3.0,3.0,0.1)\n",
    "y = np.arange(-3.0,3.0,0.1)\n",
    "X,Y = np.meshgrid(x, y, indexing='ij') # grid of point\n",
    "Z = f(X, Y) # evaluation of the function on the grid\n",
    "\n",
    "plt.pcolor(X, Y, Z, cmap=plt.cm.gist_earth)\n",
    "plt.axis([x.min(), x.max(), y.min(), y.max()])\n",
    "plt.gca().set_aspect('equal', adjustable='box')\n",
    "plt.gcf().set_size_inches((6,6))\n",
    "plt.show()"
   ]
  },
  {
   "cell_type": "code",
   "execution_count": 5,
   "metadata": {
    "collapsed": false,
    "deletable": true,
    "editable": true
   },
   "outputs": [],
   "source": [
    "def target_f(x):\n",
    "    return x[0]**2.0 + 5*x[1]**2.0\n",
    "\n",
    "def part_f(x, \n",
    "           f, \n",
    "           i, \n",
    "           h=1e-6):\n",
    "    w1 = [x_j + (h if j==i else 0) for j, x_j in enumerate(x)]\n",
    "    w2 = [x_j - (h if j==i else 0) for j, x_j in enumerate(x)]\n",
    "    return (f(w1) - f(w2))/(2*h)\n",
    "\n",
    "def gradient_f(x, \n",
    "               f, \n",
    "               h=1e-6):\n",
    "    return np.array([round(part_f(x,f,i,h), 10) for i,_ in enumerate(x)])"
   ]
  },
  {
   "cell_type": "code",
   "execution_count": 6,
   "metadata": {
    "collapsed": false,
    "deletable": true,
    "editable": true
   },
   "outputs": [
    {
     "name": "stdout",
     "output_type": "stream",
     "text": [
      "[  8.73043864e-04  -4.00026038e-12]\n",
      "Val: 0.000001, steps: 475\n"
     ]
    }
   ],
   "source": [
    "def SGD(target_f, \n",
    "        gradient_f, \n",
    "        x, \n",
    "        alpha_0=0.01,\n",
    "        toler = 0.000001):\n",
    "    alpha = alpha_0\n",
    "    min_val = float('inf')\n",
    "    steps = 0\n",
    "    iteration_no_increase = 0\n",
    "    trace = []\n",
    "    while iteration_no_increase < 100:\n",
    "        val = target_f(x)\n",
    "        if min_val - val > toler:\n",
    "            min_val = val\n",
    "            alpha = alpha_0\n",
    "            iteration_no_increase = 0\n",
    "        else:\n",
    "            alpha *= 0.95\n",
    "            iteration_no_increase += 1\n",
    "        trace.append(x)\n",
    "        gradient_i = gradient_f(x, target_f)\n",
    "        x = x - (alpha *  gradient_i)\n",
    "        steps += 1\n",
    "    return x, val, steps, trace\n",
    "\n",
    "x = np.array([2,-2])\n",
    "x, val, steps, trace = SGD(target_f, gradient_f, x)\n",
    "print x\n",
    "print 'Val: {:.6f}, steps: {:.0f}'.format(val, steps)"
   ]
  },
  {
   "cell_type": "code",
   "execution_count": 7,
   "metadata": {
    "collapsed": false,
    "deletable": true,
    "editable": true
   },
   "outputs": [
    {
     "name": "stdout",
     "output_type": "stream",
     "text": [
      "\n",
      "[  1.90552394e-05   1.27080227e-05]\n",
      "Val: 0.000000, steps: 241\n"
     ]
    }
   ],
   "source": [
    "def SGD_M(target_f, \n",
    "        gradient_f, \n",
    "        x, \n",
    "        alpha_0=0.01,\n",
    "        toler = 0.000001,\n",
    "        m = 0.9):\n",
    "    \n",
    "    alpha = alpha_0\n",
    "    min_val = float('inf')\n",
    "    steps = 0\n",
    "    iteration_no_increase = 0\n",
    "    v = 0.0\n",
    "    trace = []\n",
    "    while iteration_no_increase < 100:\n",
    "        val = target_f(x)\n",
    "        if min_val - val > toler:\n",
    "            min_val = val\n",
    "            alpha = alpha_0\n",
    "            iteration_no_increase = 0\n",
    "        else:\n",
    "            alpha *= 0.95\n",
    "            iteration_no_increase += 1\n",
    "        trace.append(x)\n",
    "        gradient_i = gradient_f(x, target_f)\n",
    "        v = m * v + (alpha *  gradient_i)\n",
    "        x = x - v\n",
    "        steps += 1\n",
    "    return x, val, steps, trace\n",
    "\n",
    "x = np.array([2,-2])\n",
    "x, val, steps, trace2 = SGD_M(target_f, gradient_f, x)\n",
    "\n",
    "print '\\n',x\n",
    "print 'Val: {:.6f}, steps: {:.0f}'.format(val, steps)"
   ]
  },
  {
   "cell_type": "code",
   "execution_count": 8,
   "metadata": {
    "collapsed": false,
    "deletable": true,
    "editable": true
   },
   "outputs": [
    {
     "data": {
      "text/plain": [
       "[<matplotlib.lines.Line2D at 0x7fc320862e50>,\n",
       " <matplotlib.lines.Line2D at 0x7fc32086dcd0>]"
      ]
     },
     "execution_count": 8,
     "metadata": {},
     "output_type": "execute_result"
    },
    {
     "data": {
      "image/png": "[encoded data removed]",
      "text/plain": [
       "<matplotlib.figure.Figure at 0x7fc320ba3750>"
      ]
     },
     "metadata": {},
     "output_type": "display_data"
    }
   ],
   "source": [
    "x2 = np.array(range(len(trace)))\n",
    "x3 = np.array(range(len(trace2)))\n",
    "plt.xlim([0,len(trace)])\n",
    "plt.gcf().set_size_inches((10,3))\n",
    "plt.plot(x3, trace2)\n",
    "plt.plot(x2, trace, '-')"
   ]
  },
  {
   "cell_type": "code",
   "execution_count": null,
   "metadata": {
    "collapsed": true
   },
   "outputs": [],
   "source": []
  }
 ],
 "metadata": {
  "anaconda-cloud": {},
  "kernelspec": {
   "display_name": "Python 2",
   "language": "python",
   "name": "python2"
  },
  "language_info": {
   "codemirror_mode": {
    "name": "ipython",
    "version": 2
   },
   "file_extension": ".py",
   "mimetype": "text/x-python",
   "name": "python",
   "nbconvert_exporter": "python",
   "pygments_lexer": "ipython2",
   "version": "2.7.6"
  }
 },
 "nbformat": 4,
 "nbformat_minor": 0
}
